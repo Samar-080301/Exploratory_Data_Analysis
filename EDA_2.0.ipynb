{
 "cells": [
  {
   "cell_type": "code",
   "execution_count": 1,
   "metadata": {},
   "outputs": [],
   "source": [
    "import numpy as np\n",
    "import pandas as pd"
   ]
  },
  {
   "cell_type": "code",
   "execution_count": 2,
   "metadata": {},
   "outputs": [],
   "source": [
    "df = pd.read_csv('survey_results_public.csv')"
   ]
  },
  {
   "cell_type": "code",
   "execution_count": 3,
   "metadata": {},
   "outputs": [
    {
     "data": {
      "text/html": [
       "<div>\n",
       "<style scoped>\n",
       "    .dataframe tbody tr th:only-of-type {\n",
       "        vertical-align: middle;\n",
       "    }\n",
       "\n",
       "    .dataframe tbody tr th {\n",
       "        vertical-align: top;\n",
       "    }\n",
       "\n",
       "    .dataframe thead th {\n",
       "        text-align: right;\n",
       "    }\n",
       "</style>\n",
       "<table border=\"1\" class=\"dataframe\">\n",
       "  <thead>\n",
       "    <tr style=\"text-align: right;\">\n",
       "      <th></th>\n",
       "      <th>Respondent</th>\n",
       "      <th>Age</th>\n",
       "      <th>CompenTotal</th>\n",
       "      <th>USDCompen</th>\n",
       "      <th>WorkWeekHrs</th>\n",
       "    </tr>\n",
       "  </thead>\n",
       "  <tbody>\n",
       "    <tr>\n",
       "      <th>count</th>\n",
       "      <td>64461.000000</td>\n",
       "      <td>45446.000000</td>\n",
       "      <td>3.482600e+04</td>\n",
       "      <td>3.475600e+04</td>\n",
       "      <td>41151.000000</td>\n",
       "    </tr>\n",
       "    <tr>\n",
       "      <th>mean</th>\n",
       "      <td>32554.079738</td>\n",
       "      <td>30.834111</td>\n",
       "      <td>3.187274e+242</td>\n",
       "      <td>1.037561e+05</td>\n",
       "      <td>40.782174</td>\n",
       "    </tr>\n",
       "    <tr>\n",
       "      <th>std</th>\n",
       "      <td>18967.442360</td>\n",
       "      <td>9.585392</td>\n",
       "      <td>inf</td>\n",
       "      <td>2.268853e+05</td>\n",
       "      <td>17.816383</td>\n",
       "    </tr>\n",
       "    <tr>\n",
       "      <th>min</th>\n",
       "      <td>1.000000</td>\n",
       "      <td>1.000000</td>\n",
       "      <td>0.000000e+00</td>\n",
       "      <td>0.000000e+00</td>\n",
       "      <td>1.000000</td>\n",
       "    </tr>\n",
       "    <tr>\n",
       "      <th>25%</th>\n",
       "      <td>16116.000000</td>\n",
       "      <td>24.000000</td>\n",
       "      <td>2.000000e+04</td>\n",
       "      <td>2.464800e+04</td>\n",
       "      <td>40.000000</td>\n",
       "    </tr>\n",
       "    <tr>\n",
       "      <th>50%</th>\n",
       "      <td>32231.000000</td>\n",
       "      <td>29.000000</td>\n",
       "      <td>6.300000e+04</td>\n",
       "      <td>5.404900e+04</td>\n",
       "      <td>40.000000</td>\n",
       "    </tr>\n",
       "    <tr>\n",
       "      <th>75%</th>\n",
       "      <td>49142.000000</td>\n",
       "      <td>35.000000</td>\n",
       "      <td>1.250000e+05</td>\n",
       "      <td>9.500000e+04</td>\n",
       "      <td>44.000000</td>\n",
       "    </tr>\n",
       "    <tr>\n",
       "      <th>max</th>\n",
       "      <td>65639.000000</td>\n",
       "      <td>279.000000</td>\n",
       "      <td>1.110000e+247</td>\n",
       "      <td>2.000000e+06</td>\n",
       "      <td>475.000000</td>\n",
       "    </tr>\n",
       "  </tbody>\n",
       "</table>\n",
       "</div>"
      ],
      "text/plain": [
       "         Respondent           Age    CompenTotal     USDCompen   WorkWeekHrs\n",
       "count  64461.000000  45446.000000   3.482600e+04  3.475600e+04  41151.000000\n",
       "mean   32554.079738     30.834111  3.187274e+242  1.037561e+05     40.782174\n",
       "std    18967.442360      9.585392            inf  2.268853e+05     17.816383\n",
       "min        1.000000      1.000000   0.000000e+00  0.000000e+00      1.000000\n",
       "25%    16116.000000     24.000000   2.000000e+04  2.464800e+04     40.000000\n",
       "50%    32231.000000     29.000000   6.300000e+04  5.404900e+04     40.000000\n",
       "75%    49142.000000     35.000000   1.250000e+05  9.500000e+04     44.000000\n",
       "max    65639.000000    279.000000  1.110000e+247  2.000000e+06    475.000000"
      ]
     },
     "execution_count": 3,
     "metadata": {},
     "output_type": "execute_result"
    }
   ],
   "source": [
    "df.describe()"
   ]
  },
  {
   "cell_type": "code",
   "execution_count": 4,
   "metadata": {},
   "outputs": [
    {
     "name": "stdout",
     "output_type": "stream",
     "text": [
      "<class 'pandas.core.frame.DataFrame'>\n",
      "RangeIndex: 64461 entries, 0 to 64460\n",
      "Data columns (total 61 columns):\n",
      " #   Column                        Non-Null Count  Dtype  \n",
      "---  ------                        --------------  -----  \n",
      " 0   Respondent                    64461 non-null  int64  \n",
      " 1   MainBranch                    64162 non-null  object \n",
      " 2   Hobbyist                      64416 non-null  object \n",
      " 3   Age                           45446 non-null  float64\n",
      " 4   Age1stCode                    57900 non-null  object \n",
      " 5   CompenFreq                    40069 non-null  object \n",
      " 6   CompenTotal                   34826 non-null  float64\n",
      " 7   USDCompen                     34756 non-null  float64\n",
      " 8   Country                       64072 non-null  object \n",
      " 9   CurrencyDesc                  45472 non-null  object \n",
      " 10  CurrencySymbol                45472 non-null  object \n",
      " 11  DatabaseDesireNextYear        44070 non-null  object \n",
      " 12  DatabaseWorkedWith            49537 non-null  object \n",
      " 13  DevType                       49370 non-null  object \n",
      " 14  EdLevel                       57431 non-null  object \n",
      " 15  Employment                    63854 non-null  object \n",
      " 16  Ethnicity                     45948 non-null  object \n",
      " 17  Gender                        50557 non-null  object \n",
      " 18  JobFactors                    49349 non-null  object \n",
      " 19  JobSat                        45194 non-null  object \n",
      " 20  JobSeek                       51727 non-null  object \n",
      " 21  LanguageDesireNextYear        54113 non-null  object \n",
      " 22  LanguageWorkedWith            57378 non-null  object \n",
      " 23  MiscTechDesireNextYear        42379 non-null  object \n",
      " 24  MiscTechWorkedWith            40314 non-null  object \n",
      " 25  NEWCollabToolsDesireNextYear  47287 non-null  object \n",
      " 26  NEWCollabToolsWorkedWith      52883 non-null  object \n",
      " 27  NEWDevOps                     42686 non-null  object \n",
      " 28  NEWDevOpsImpt                 41732 non-null  object \n",
      " 29  NEWEdImpt                     48465 non-null  object \n",
      " 30  NEWJobHunt                    42286 non-null  object \n",
      " 31  NEWJobHuntResearch            41022 non-null  object \n",
      " 32  NEWLearn                      56156 non-null  object \n",
      " 33  NEWOffTopic                   50804 non-null  object \n",
      " 34  NEWOnboardGood                42623 non-null  object \n",
      " 35  NEWOtherComms                 57205 non-null  object \n",
      " 36  NEWOvertime                   43231 non-null  object \n",
      " 37  NEWPurchaseResearch           37321 non-null  object \n",
      " 38  NEWPurpleLink                 54803 non-null  object \n",
      " 39  NEWSOSites                    58275 non-null  object \n",
      " 40  NEWStuck                      54983 non-null  object \n",
      " 41  OpSys                         56228 non-null  object \n",
      " 42  OrgSize                       44334 non-null  object \n",
      " 43  PlatformDesireNextYear        50605 non-null  object \n",
      " 44  PlatformWorkedWith            53843 non-null  object \n",
      " 45  PurchaseWhat                  39364 non-null  object \n",
      " 46  Sexuality                     43992 non-null  object \n",
      " 47  SOAccount                     56805 non-null  object \n",
      " 48  SOComm                        56476 non-null  object \n",
      " 49  SOPartFreq                    46792 non-null  object \n",
      " 50  SOVisitFreq                   56970 non-null  object \n",
      " 51  SurveyEase                    51802 non-null  object \n",
      " 52  SurveyLength                  51701 non-null  object \n",
      " 53  Trans                         49345 non-null  object \n",
      " 54  UndergradMajor                50995 non-null  object \n",
      " 55  WebframeDesireNextYear        40024 non-null  object \n",
      " 56  WebframeWorkedWith            42279 non-null  object \n",
      " 57  WelcomeChange                 52683 non-null  object \n",
      " 58  WorkWeekHrs                   41151 non-null  float64\n",
      " 59  YearsCode                     57684 non-null  object \n",
      " 60  YearsCodePro                  46349 non-null  object \n",
      "dtypes: float64(4), int64(1), object(56)\n",
      "memory usage: 30.0+ MB\n"
     ]
    }
   ],
   "source": [
    "df.info()"
   ]
  },
  {
   "cell_type": "code",
   "execution_count": 5,
   "metadata": {},
   "outputs": [
    {
     "data": {
      "text/html": [
       "<div>\n",
       "<style scoped>\n",
       "    .dataframe tbody tr th:only-of-type {\n",
       "        vertical-align: middle;\n",
       "    }\n",
       "\n",
       "    .dataframe tbody tr th {\n",
       "        vertical-align: top;\n",
       "    }\n",
       "\n",
       "    .dataframe thead th {\n",
       "        text-align: right;\n",
       "    }\n",
       "</style>\n",
       "<table border=\"1\" class=\"dataframe\">\n",
       "  <thead>\n",
       "    <tr style=\"text-align: right;\">\n",
       "      <th></th>\n",
       "      <th>Respondent</th>\n",
       "      <th>MainBranch</th>\n",
       "      <th>Hobbyist</th>\n",
       "      <th>Age</th>\n",
       "      <th>Age1stCode</th>\n",
       "      <th>CompenFreq</th>\n",
       "      <th>CompenTotal</th>\n",
       "      <th>USDCompen</th>\n",
       "      <th>Country</th>\n",
       "      <th>CurrencyDesc</th>\n",
       "      <th>...</th>\n",
       "      <th>SurveyEase</th>\n",
       "      <th>SurveyLength</th>\n",
       "      <th>Trans</th>\n",
       "      <th>UndergradMajor</th>\n",
       "      <th>WebframeDesireNextYear</th>\n",
       "      <th>WebframeWorkedWith</th>\n",
       "      <th>WelcomeChange</th>\n",
       "      <th>WorkWeekHrs</th>\n",
       "      <th>YearsCode</th>\n",
       "      <th>YearsCodePro</th>\n",
       "    </tr>\n",
       "  </thead>\n",
       "  <tbody>\n",
       "    <tr>\n",
       "      <th>0</th>\n",
       "      <td>1</td>\n",
       "      <td>I am a developer by profession</td>\n",
       "      <td>Yes</td>\n",
       "      <td>NaN</td>\n",
       "      <td>13</td>\n",
       "      <td>Monthly</td>\n",
       "      <td>NaN</td>\n",
       "      <td>NaN</td>\n",
       "      <td>Germany</td>\n",
       "      <td>European Euro</td>\n",
       "      <td>...</td>\n",
       "      <td>Neither easy nor difficult</td>\n",
       "      <td>Appropriate in length</td>\n",
       "      <td>No</td>\n",
       "      <td>Computer science, computer engineering, or sof...</td>\n",
       "      <td>ASP.NET Core</td>\n",
       "      <td>ASP.NET;ASP.NET Core</td>\n",
       "      <td>Just as welcome now as I felt last year</td>\n",
       "      <td>50.0</td>\n",
       "      <td>36</td>\n",
       "      <td>27</td>\n",
       "    </tr>\n",
       "    <tr>\n",
       "      <th>1</th>\n",
       "      <td>2</td>\n",
       "      <td>I am a developer by profession</td>\n",
       "      <td>No</td>\n",
       "      <td>NaN</td>\n",
       "      <td>19</td>\n",
       "      <td>NaN</td>\n",
       "      <td>NaN</td>\n",
       "      <td>NaN</td>\n",
       "      <td>United Kingdom</td>\n",
       "      <td>Pound sterling</td>\n",
       "      <td>...</td>\n",
       "      <td>NaN</td>\n",
       "      <td>NaN</td>\n",
       "      <td>NaN</td>\n",
       "      <td>Computer science, computer engineering, or sof...</td>\n",
       "      <td>NaN</td>\n",
       "      <td>NaN</td>\n",
       "      <td>Somewhat more welcome now than last year</td>\n",
       "      <td>NaN</td>\n",
       "      <td>7</td>\n",
       "      <td>4</td>\n",
       "    </tr>\n",
       "    <tr>\n",
       "      <th>2</th>\n",
       "      <td>3</td>\n",
       "      <td>I code primarily as a hobby</td>\n",
       "      <td>Yes</td>\n",
       "      <td>NaN</td>\n",
       "      <td>15</td>\n",
       "      <td>NaN</td>\n",
       "      <td>NaN</td>\n",
       "      <td>NaN</td>\n",
       "      <td>Russian Federation</td>\n",
       "      <td>NaN</td>\n",
       "      <td>...</td>\n",
       "      <td>Neither easy nor difficult</td>\n",
       "      <td>Appropriate in length</td>\n",
       "      <td>NaN</td>\n",
       "      <td>NaN</td>\n",
       "      <td>NaN</td>\n",
       "      <td>NaN</td>\n",
       "      <td>Somewhat more welcome now than last year</td>\n",
       "      <td>NaN</td>\n",
       "      <td>4</td>\n",
       "      <td>NaN</td>\n",
       "    </tr>\n",
       "    <tr>\n",
       "      <th>3</th>\n",
       "      <td>4</td>\n",
       "      <td>I am a developer by profession</td>\n",
       "      <td>Yes</td>\n",
       "      <td>25.0</td>\n",
       "      <td>18</td>\n",
       "      <td>NaN</td>\n",
       "      <td>NaN</td>\n",
       "      <td>NaN</td>\n",
       "      <td>Albania</td>\n",
       "      <td>Albanian lek</td>\n",
       "      <td>...</td>\n",
       "      <td>NaN</td>\n",
       "      <td>NaN</td>\n",
       "      <td>No</td>\n",
       "      <td>Computer science, computer engineering, or sof...</td>\n",
       "      <td>NaN</td>\n",
       "      <td>NaN</td>\n",
       "      <td>Somewhat less welcome now than last year</td>\n",
       "      <td>40.0</td>\n",
       "      <td>7</td>\n",
       "      <td>4</td>\n",
       "    </tr>\n",
       "    <tr>\n",
       "      <th>4</th>\n",
       "      <td>5</td>\n",
       "      <td>I used to be a developer by profession, but no...</td>\n",
       "      <td>Yes</td>\n",
       "      <td>31.0</td>\n",
       "      <td>16</td>\n",
       "      <td>NaN</td>\n",
       "      <td>NaN</td>\n",
       "      <td>NaN</td>\n",
       "      <td>United States</td>\n",
       "      <td>NaN</td>\n",
       "      <td>...</td>\n",
       "      <td>Easy</td>\n",
       "      <td>Too short</td>\n",
       "      <td>No</td>\n",
       "      <td>Computer science, computer engineering, or sof...</td>\n",
       "      <td>Django;Ruby on Rails</td>\n",
       "      <td>Ruby on Rails</td>\n",
       "      <td>Just as welcome now as I felt last year</td>\n",
       "      <td>NaN</td>\n",
       "      <td>15</td>\n",
       "      <td>8</td>\n",
       "    </tr>\n",
       "  </tbody>\n",
       "</table>\n",
       "<p>5 rows × 61 columns</p>\n",
       "</div>"
      ],
      "text/plain": [
       "   Respondent                                         MainBranch Hobbyist  \\\n",
       "0           1                     I am a developer by profession      Yes   \n",
       "1           2                     I am a developer by profession       No   \n",
       "2           3                        I code primarily as a hobby      Yes   \n",
       "3           4                     I am a developer by profession      Yes   \n",
       "4           5  I used to be a developer by profession, but no...      Yes   \n",
       "\n",
       "    Age Age1stCode CompenFreq  CompenTotal  USDCompen             Country  \\\n",
       "0   NaN         13    Monthly          NaN        NaN             Germany   \n",
       "1   NaN         19        NaN          NaN        NaN      United Kingdom   \n",
       "2   NaN         15        NaN          NaN        NaN  Russian Federation   \n",
       "3  25.0         18        NaN          NaN        NaN             Albania   \n",
       "4  31.0         16        NaN          NaN        NaN       United States   \n",
       "\n",
       "     CurrencyDesc  ...                  SurveyEase           SurveyLength  \\\n",
       "0   European Euro  ...  Neither easy nor difficult  Appropriate in length   \n",
       "1  Pound sterling  ...                         NaN                    NaN   \n",
       "2             NaN  ...  Neither easy nor difficult  Appropriate in length   \n",
       "3    Albanian lek  ...                         NaN                    NaN   \n",
       "4             NaN  ...                        Easy              Too short   \n",
       "\n",
       "  Trans                                     UndergradMajor  \\\n",
       "0    No  Computer science, computer engineering, or sof...   \n",
       "1   NaN  Computer science, computer engineering, or sof...   \n",
       "2   NaN                                                NaN   \n",
       "3    No  Computer science, computer engineering, or sof...   \n",
       "4    No  Computer science, computer engineering, or sof...   \n",
       "\n",
       "  WebframeDesireNextYear    WebframeWorkedWith  \\\n",
       "0           ASP.NET Core  ASP.NET;ASP.NET Core   \n",
       "1                    NaN                   NaN   \n",
       "2                    NaN                   NaN   \n",
       "3                    NaN                   NaN   \n",
       "4   Django;Ruby on Rails         Ruby on Rails   \n",
       "\n",
       "                              WelcomeChange WorkWeekHrs YearsCode YearsCodePro  \n",
       "0   Just as welcome now as I felt last year        50.0        36           27  \n",
       "1  Somewhat more welcome now than last year         NaN         7            4  \n",
       "2  Somewhat more welcome now than last year         NaN         4          NaN  \n",
       "3  Somewhat less welcome now than last year        40.0         7            4  \n",
       "4   Just as welcome now as I felt last year         NaN        15            8  \n",
       "\n",
       "[5 rows x 61 columns]"
      ]
     },
     "execution_count": 5,
     "metadata": {},
     "output_type": "execute_result"
    }
   ],
   "source": [
    "df.head()"
   ]
  },
  {
   "cell_type": "code",
   "execution_count": 6,
   "metadata": {},
   "outputs": [],
   "source": [
    "#open schema in excel"
   ]
  },
  {
   "cell_type": "code",
   "execution_count": 7,
   "metadata": {},
   "outputs": [],
   "source": [
    "def unq(i):\n",
    "    print(df[i].value_counts())\n",
    "    print('NaN','\\t  ',df[i].isna().sum())\n",
    "    print(df[i].unique())\n",
    "def enc(i):\n",
    "    df[i] = df[i].astype('category')\n",
    "    df[i] = df[i].cat.codes \n",
    "def fna(a,b):\n",
    "    df[a].fillna(b,inplace=True)\n",
    "    unq(a)    "
   ]
  },
  {
   "cell_type": "code",
   "execution_count": 8,
   "metadata": {},
   "outputs": [
    {
     "name": "stdout",
     "output_type": "stream",
     "text": [
      "I am a developer by profession                                                   47193\n",
      "I am a student who is learning to code                                            7970\n",
      "I am not primarily a developer, but I write code sometimes as part of my work     5502\n",
      "I code primarily as a hobby                                                       2314\n",
      "I used to be a developer by profession, but no longer am                          1183\n",
      "Name: MainBranch, dtype: int64\n",
      "NaN \t   299\n",
      "['I am a developer by profession' 'I code primarily as a hobby'\n",
      " 'I used to be a developer by profession, but no longer am'\n",
      " 'I am not primarily a developer, but I write code sometimes as part of my work'\n",
      " 'I am a student who is learning to code' nan]\n"
     ]
    }
   ],
   "source": [
    "unq('MainBranch')"
   ]
  },
  {
   "cell_type": "code",
   "execution_count": 9,
   "metadata": {},
   "outputs": [
    {
     "name": "stdout",
     "output_type": "stream",
     "text": [
      "I am a developer by profession                                                   47492\n",
      "I am a student who is learning to code                                            7970\n",
      "I am not primarily a developer, but I write code sometimes as part of my work     5502\n",
      "I code primarily as a hobby                                                       2314\n",
      "I used to be a developer by profession, but no longer am                          1183\n",
      "Name: MainBranch, dtype: int64\n",
      "NaN \t   0\n",
      "['I am a developer by profession' 'I code primarily as a hobby'\n",
      " 'I used to be a developer by profession, but no longer am'\n",
      " 'I am not primarily a developer, but I write code sometimes as part of my work'\n",
      " 'I am a student who is learning to code']\n"
     ]
    }
   ],
   "source": [
    "fna('MainBranch','I am a developer by profession')    "
   ]
  },
  {
   "cell_type": "code",
   "execution_count": 54,
   "metadata": {},
   "outputs": [
    {
     "name": "stdout",
     "output_type": "stream",
     "text": [
      "0    47492\n",
      "1     7970\n",
      "2     5502\n",
      "3     2314\n",
      "4     1183\n",
      "Name: MainBranch, dtype: int64\n",
      "NaN \t   0\n",
      "[0 3 4 2 1]\n"
     ]
    }
   ],
   "source": [
    "enc('MainBranch')    \n",
    "unq('MainBranch')"
   ]
  },
  {
   "cell_type": "code",
   "execution_count": 11,
   "metadata": {},
   "outputs": [
    {
     "name": "stdout",
     "output_type": "stream",
     "text": [
      "Yes    50388\n",
      "No     14028\n",
      "Name: Hobbyist, dtype: int64\n",
      "NaN \t   45\n",
      "['Yes' 'No' nan]\n"
     ]
    }
   ],
   "source": [
    "unq('Hobbyist')"
   ]
  },
  {
   "cell_type": "code",
   "execution_count": 12,
   "metadata": {},
   "outputs": [
    {
     "name": "stdout",
     "output_type": "stream",
     "text": [
      "Yes    50433\n",
      "No     14028\n",
      "Name: Hobbyist, dtype: int64\n",
      "NaN \t   0\n",
      "['Yes' 'No']\n"
     ]
    }
   ],
   "source": [
    "fna('Hobbyist','Yes')"
   ]
  },
  {
   "cell_type": "code",
   "execution_count": 53,
   "metadata": {},
   "outputs": [
    {
     "name": "stdout",
     "output_type": "stream",
     "text": [
      "1    50433\n",
      "0    14028\n",
      "Name: Hobbyist, dtype: int64\n",
      "NaN \t   0\n",
      "[1 0]\n"
     ]
    }
   ],
   "source": [
    "enc('Hobbyist')\n",
    "unq('Hobbyist')"
   ]
  },
  {
   "cell_type": "code",
   "execution_count": 14,
   "metadata": {},
   "outputs": [
    {
     "name": "stdout",
     "output_type": "stream",
     "text": [
      "25.0    2693\n",
      "28.0    2412\n",
      "30.0    2406\n",
      "26.0    2391\n",
      "27.0    2338\n",
      "        ... \n",
      "23.8       1\n",
      "95.0       1\n",
      "31.5       1\n",
      "20.5       1\n",
      "16.5       1\n",
      "Name: Age, Length: 110, dtype: int64\n",
      "NaN \t   19015\n",
      "[  nan  25.   31.   36.   30.   22.   23.   49.   53.   27.   45.   32.\n",
      "  24.   40.   18.   39.   29.   16.   34.   19.   35.   20.   38.   57.\n",
      "  28.   17.   44.   21.   48.   26.   42.   55.   37.   50.   41.   64.\n",
      "  63.   33.   43.   51.   60.   59.   62.   69.   52.   46.   49.5  56.\n",
      "  47.   15.   72.   13.   71.   54.   70.   11.   14.   61.   26.8  86.\n",
      "  58.   67.   94.   65.   66.   84.   73.   78.   68.   99.   74.   12.\n",
      "  77.   15.5  85.   76.   35.7  32.5  81.   23.8  97.   96.   26.5   3.\n",
      "  24.5  14.7  34.5   5.    1.   20.5  79.  279.   22.5  27.5  32.8  10.\n",
      "  89.   80.   98.   19.8   7.   21.5  31.5  88.   39.5  16.5  75.   83.\n",
      "  23.4  95.   14.5]\n"
     ]
    }
   ],
   "source": [
    "unq('Age')"
   ]
  },
  {
   "cell_type": "code",
   "execution_count": 15,
   "metadata": {},
   "outputs": [
    {
     "name": "stdout",
     "output_type": "stream",
     "text": [
      "25.0    21708\n",
      "28.0     2412\n",
      "30.0     2406\n",
      "26.0     2391\n",
      "27.0     2338\n",
      "        ...  \n",
      "23.8        1\n",
      "95.0        1\n",
      "31.5        1\n",
      "20.5        1\n",
      "16.5        1\n",
      "Name: Age, Length: 110, dtype: int64\n",
      "NaN \t   0\n",
      "[ 25.   31.   36.   30.   22.   23.   49.   53.   27.   45.   32.   24.\n",
      "  40.   18.   39.   29.   16.   34.   19.   35.   20.   38.   57.   28.\n",
      "  17.   44.   21.   48.   26.   42.   55.   37.   50.   41.   64.   63.\n",
      "  33.   43.   51.   60.   59.   62.   69.   52.   46.   49.5  56.   47.\n",
      "  15.   72.   13.   71.   54.   70.   11.   14.   61.   26.8  86.   58.\n",
      "  67.   94.   65.   66.   84.   73.   78.   68.   99.   74.   12.   77.\n",
      "  15.5  85.   76.   35.7  32.5  81.   23.8  97.   96.   26.5   3.   24.5\n",
      "  14.7  34.5   5.    1.   20.5  79.  279.   22.5  27.5  32.8  10.   89.\n",
      "  80.   98.   19.8   7.   21.5  31.5  88.   39.5  16.5  75.   83.   23.4\n",
      "  95.   14.5]\n"
     ]
    }
   ],
   "source": [
    "fna('Age',25.0)"
   ]
  },
  {
   "cell_type": "code",
   "execution_count": 16,
   "metadata": {},
   "outputs": [
    {
     "name": "stdout",
     "output_type": "stream",
     "text": [
      "15    5618\n",
      "14    5514\n",
      "16    5463\n",
      "18    5382\n",
      "12    5081\n",
      "      ... \n",
      "63       1\n",
      "83       1\n",
      "76       1\n",
      "68       1\n",
      "72       1\n",
      "Name: Age1stCode, Length: 63, dtype: int64\n",
      "NaN \t   6561\n",
      "['13' '19' '15' '18' '16' '14' '12' '20' '42' '8' '25' '22' '30' '17' '21'\n",
      " '10' '46' '9' '7' '11' '6' nan '31' '29' '5' 'Younger than 5 years' '28'\n",
      " '38' '23' '27' '41' '24' '53' '26' '35' '32' '40' '33' '36' '54' '48'\n",
      " '56' '45' '44' '34' 'Older than 85' '39' '51' '68' '50' '37' '47' '43'\n",
      " '52' '85' '64' '55' '58' '49' '76' '72' '73' '83' '63']\n"
     ]
    }
   ],
   "source": [
    "unq('Age1stCode')"
   ]
  },
  {
   "cell_type": "code",
   "execution_count": 17,
   "metadata": {},
   "outputs": [
    {
     "name": "stdout",
     "output_type": "stream",
     "text": [
      "<class 'list'>\n"
     ]
    }
   ],
   "source": [
    "b = []\n",
    "for i in df['Age1stCode']:\n",
    "    b.append(i)\n",
    "print(type(b)) "
   ]
  },
  {
   "cell_type": "code",
   "execution_count": 28,
   "metadata": {},
   "outputs": [],
   "source": [
    "for i in range(len(b)):\n",
    "  if(b[i] == 'Older than 85'): \n",
    "    b[i] = 666\n",
    "  elif(b[i] == 'Younger than 5 years'): \n",
    "    b[i] = 444\n",
    "  else : \n",
    "    continue  "
   ]
  },
  {
   "cell_type": "code",
   "execution_count": 29,
   "metadata": {},
   "outputs": [
    {
     "name": "stdout",
     "output_type": "stream",
     "text": [
      "{nan, '39', '26', '15', '44', 666, '11', '17', '12', '24', '52', '21', '68', '14', '85', '56', '64', '55', '53', '51', '10', '37', '5', '45', '73', '40', '54', '48', '25', 444, '35', '36', '41', '63', '76', '23', '32', '13', '8', '43', '58', '9', '6', '29', '38', '7', '46', '30', '20', '28', '19', '72', '83', '49', '42', '27', '18', '33', '16', '34', '22', '47', '31', '50'}\n"
     ]
    }
   ],
   "source": [
    "print(set(b))"
   ]
  },
  {
   "cell_type": "code",
   "execution_count": 30,
   "metadata": {},
   "outputs": [],
   "source": [
    "for i in range(len(b)):\n",
    "    v = float(b[i]) \n",
    "    b[i] = v"
   ]
  },
  {
   "cell_type": "code",
   "execution_count": 31,
   "metadata": {},
   "outputs": [
    {
     "name": "stdout",
     "output_type": "stream",
     "text": [
      "{nan, 5.0, 6.0, 7.0, 8.0, 9.0, 10.0, 11.0, 12.0, 13.0, 14.0, 15.0, 16.0, 17.0, 18.0, 19.0, 20.0, 21.0, 22.0, 23.0, 24.0, 25.0, 26.0, 27.0, 28.0, 29.0, 30.0, 31.0, 32.0, 33.0, 34.0, 35.0, 36.0, 37.0, 38.0, 39.0, 40.0, 41.0, 42.0, 43.0, 44.0, 45.0, 46.0, 47.0, 48.0, 49.0, 50.0, 51.0, 52.0, 53.0, 54.0, 55.0, 56.0, 58.0, 444.0, 63.0, 64.0, 68.0, 72.0, 73.0, 76.0, 83.0, 85.0, 666.0}\n"
     ]
    }
   ],
   "source": [
    "print(set(b)) "
   ]
  },
  {
   "cell_type": "code",
   "execution_count": 32,
   "metadata": {},
   "outputs": [],
   "source": [
    "df['Age1stCode_Modified']=b"
   ]
  },
  {
   "cell_type": "code",
   "execution_count": 33,
   "metadata": {},
   "outputs": [
    {
     "data": {
      "text/html": [
       "<div>\n",
       "<style scoped>\n",
       "    .dataframe tbody tr th:only-of-type {\n",
       "        vertical-align: middle;\n",
       "    }\n",
       "\n",
       "    .dataframe tbody tr th {\n",
       "        vertical-align: top;\n",
       "    }\n",
       "\n",
       "    .dataframe thead th {\n",
       "        text-align: right;\n",
       "    }\n",
       "</style>\n",
       "<table border=\"1\" class=\"dataframe\">\n",
       "  <thead>\n",
       "    <tr style=\"text-align: right;\">\n",
       "      <th></th>\n",
       "      <th>Respondent</th>\n",
       "      <th>MainBranch</th>\n",
       "      <th>Hobbyist</th>\n",
       "      <th>Age</th>\n",
       "      <th>CompenFreq</th>\n",
       "      <th>CompenTotal</th>\n",
       "      <th>USDCompen</th>\n",
       "      <th>Country</th>\n",
       "      <th>CurrencyDesc</th>\n",
       "      <th>CurrencySymbol</th>\n",
       "      <th>...</th>\n",
       "      <th>SurveyLength</th>\n",
       "      <th>Trans</th>\n",
       "      <th>UndergradMajor</th>\n",
       "      <th>WebframeDesireNextYear</th>\n",
       "      <th>WebframeWorkedWith</th>\n",
       "      <th>WelcomeChange</th>\n",
       "      <th>WorkWeekHrs</th>\n",
       "      <th>YearsCode</th>\n",
       "      <th>YearsCodePro</th>\n",
       "      <th>Age1stCode_Modified</th>\n",
       "    </tr>\n",
       "  </thead>\n",
       "  <tbody>\n",
       "    <tr>\n",
       "      <th>0</th>\n",
       "      <td>1</td>\n",
       "      <td>0</td>\n",
       "      <td>1</td>\n",
       "      <td>25.0</td>\n",
       "      <td>Monthly</td>\n",
       "      <td>NaN</td>\n",
       "      <td>NaN</td>\n",
       "      <td>Germany</td>\n",
       "      <td>European Euro</td>\n",
       "      <td>EUR</td>\n",
       "      <td>...</td>\n",
       "      <td>Appropriate in length</td>\n",
       "      <td>No</td>\n",
       "      <td>Computer science, computer engineering, or sof...</td>\n",
       "      <td>ASP.NET Core</td>\n",
       "      <td>ASP.NET;ASP.NET Core</td>\n",
       "      <td>Just as welcome now as I felt last year</td>\n",
       "      <td>50.0</td>\n",
       "      <td>36</td>\n",
       "      <td>27</td>\n",
       "      <td>10.0</td>\n",
       "    </tr>\n",
       "    <tr>\n",
       "      <th>1</th>\n",
       "      <td>2</td>\n",
       "      <td>0</td>\n",
       "      <td>0</td>\n",
       "      <td>25.0</td>\n",
       "      <td>NaN</td>\n",
       "      <td>NaN</td>\n",
       "      <td>NaN</td>\n",
       "      <td>United Kingdom</td>\n",
       "      <td>Pound sterling</td>\n",
       "      <td>GBP</td>\n",
       "      <td>...</td>\n",
       "      <td>NaN</td>\n",
       "      <td>NaN</td>\n",
       "      <td>Computer science, computer engineering, or sof...</td>\n",
       "      <td>NaN</td>\n",
       "      <td>NaN</td>\n",
       "      <td>Somewhat more welcome now than last year</td>\n",
       "      <td>NaN</td>\n",
       "      <td>7</td>\n",
       "      <td>4</td>\n",
       "      <td>10.0</td>\n",
       "    </tr>\n",
       "    <tr>\n",
       "      <th>2</th>\n",
       "      <td>3</td>\n",
       "      <td>3</td>\n",
       "      <td>1</td>\n",
       "      <td>25.0</td>\n",
       "      <td>NaN</td>\n",
       "      <td>NaN</td>\n",
       "      <td>NaN</td>\n",
       "      <td>Russian Federation</td>\n",
       "      <td>NaN</td>\n",
       "      <td>NaN</td>\n",
       "      <td>...</td>\n",
       "      <td>Appropriate in length</td>\n",
       "      <td>NaN</td>\n",
       "      <td>NaN</td>\n",
       "      <td>NaN</td>\n",
       "      <td>NaN</td>\n",
       "      <td>Somewhat more welcome now than last year</td>\n",
       "      <td>NaN</td>\n",
       "      <td>4</td>\n",
       "      <td>NaN</td>\n",
       "      <td>11.0</td>\n",
       "    </tr>\n",
       "  </tbody>\n",
       "</table>\n",
       "<p>3 rows × 61 columns</p>\n",
       "</div>"
      ],
      "text/plain": [
       "   Respondent  MainBranch  Hobbyist   Age CompenFreq  CompenTotal  USDCompen  \\\n",
       "0           1           0         1  25.0    Monthly          NaN        NaN   \n",
       "1           2           0         0  25.0        NaN          NaN        NaN   \n",
       "2           3           3         1  25.0        NaN          NaN        NaN   \n",
       "\n",
       "              Country    CurrencyDesc CurrencySymbol  ...  \\\n",
       "0             Germany   European Euro            EUR  ...   \n",
       "1      United Kingdom  Pound sterling            GBP  ...   \n",
       "2  Russian Federation             NaN            NaN  ...   \n",
       "\n",
       "            SurveyLength Trans  \\\n",
       "0  Appropriate in length    No   \n",
       "1                    NaN   NaN   \n",
       "2  Appropriate in length   NaN   \n",
       "\n",
       "                                      UndergradMajor WebframeDesireNextYear  \\\n",
       "0  Computer science, computer engineering, or sof...           ASP.NET Core   \n",
       "1  Computer science, computer engineering, or sof...                    NaN   \n",
       "2                                                NaN                    NaN   \n",
       "\n",
       "     WebframeWorkedWith                             WelcomeChange WorkWeekHrs  \\\n",
       "0  ASP.NET;ASP.NET Core   Just as welcome now as I felt last year        50.0   \n",
       "1                   NaN  Somewhat more welcome now than last year         NaN   \n",
       "2                   NaN  Somewhat more welcome now than last year         NaN   \n",
       "\n",
       "  YearsCode YearsCodePro Age1stCode_Modified  \n",
       "0        36           27                10.0  \n",
       "1         7            4                10.0  \n",
       "2         4          NaN                11.0  \n",
       "\n",
       "[3 rows x 61 columns]"
      ]
     },
     "execution_count": 33,
     "metadata": {},
     "output_type": "execute_result"
    }
   ],
   "source": [
    "df.drop(columns='Age1stCode',inplace=True)\n",
    "df.head(3)"
   ]
  },
  {
   "cell_type": "code",
   "execution_count": 34,
   "metadata": {},
   "outputs": [
    {
     "data": {
      "text/html": [
       "<div>\n",
       "<style scoped>\n",
       "    .dataframe tbody tr th:only-of-type {\n",
       "        vertical-align: middle;\n",
       "    }\n",
       "\n",
       "    .dataframe tbody tr th {\n",
       "        vertical-align: top;\n",
       "    }\n",
       "\n",
       "    .dataframe thead th {\n",
       "        text-align: right;\n",
       "    }\n",
       "</style>\n",
       "<table border=\"1\" class=\"dataframe\">\n",
       "  <thead>\n",
       "    <tr style=\"text-align: right;\">\n",
       "      <th></th>\n",
       "      <th>Respondent</th>\n",
       "      <th>MainBranch</th>\n",
       "      <th>Hobbyist</th>\n",
       "      <th>Age</th>\n",
       "      <th>CompenFreq</th>\n",
       "      <th>CompenTotal</th>\n",
       "      <th>USDCompen</th>\n",
       "      <th>Country</th>\n",
       "      <th>CurrencyDesc</th>\n",
       "      <th>CurrencySymbol</th>\n",
       "      <th>...</th>\n",
       "      <th>SurveyLength</th>\n",
       "      <th>Trans</th>\n",
       "      <th>UndergradMajor</th>\n",
       "      <th>WebframeDesireNextYear</th>\n",
       "      <th>WebframeWorkedWith</th>\n",
       "      <th>WelcomeChange</th>\n",
       "      <th>WorkWeekHrs</th>\n",
       "      <th>YearsCode</th>\n",
       "      <th>YearsCodePro</th>\n",
       "      <th>Age1stCode</th>\n",
       "    </tr>\n",
       "  </thead>\n",
       "  <tbody>\n",
       "    <tr>\n",
       "      <th>0</th>\n",
       "      <td>1</td>\n",
       "      <td>0</td>\n",
       "      <td>1</td>\n",
       "      <td>25.0</td>\n",
       "      <td>Monthly</td>\n",
       "      <td>NaN</td>\n",
       "      <td>NaN</td>\n",
       "      <td>Germany</td>\n",
       "      <td>European Euro</td>\n",
       "      <td>EUR</td>\n",
       "      <td>...</td>\n",
       "      <td>Appropriate in length</td>\n",
       "      <td>No</td>\n",
       "      <td>Computer science, computer engineering, or sof...</td>\n",
       "      <td>ASP.NET Core</td>\n",
       "      <td>ASP.NET;ASP.NET Core</td>\n",
       "      <td>Just as welcome now as I felt last year</td>\n",
       "      <td>50.0</td>\n",
       "      <td>36</td>\n",
       "      <td>27</td>\n",
       "      <td>10.0</td>\n",
       "    </tr>\n",
       "  </tbody>\n",
       "</table>\n",
       "<p>1 rows × 61 columns</p>\n",
       "</div>"
      ],
      "text/plain": [
       "   Respondent  MainBranch  Hobbyist   Age CompenFreq  CompenTotal  USDCompen  \\\n",
       "0           1           0         1  25.0    Monthly          NaN        NaN   \n",
       "\n",
       "   Country   CurrencyDesc CurrencySymbol  ...           SurveyLength Trans  \\\n",
       "0  Germany  European Euro            EUR  ...  Appropriate in length    No   \n",
       "\n",
       "                                      UndergradMajor WebframeDesireNextYear  \\\n",
       "0  Computer science, computer engineering, or sof...           ASP.NET Core   \n",
       "\n",
       "     WebframeWorkedWith                            WelcomeChange WorkWeekHrs  \\\n",
       "0  ASP.NET;ASP.NET Core  Just as welcome now as I felt last year        50.0   \n",
       "\n",
       "  YearsCode YearsCodePro Age1stCode  \n",
       "0        36           27       10.0  \n",
       "\n",
       "[1 rows x 61 columns]"
      ]
     },
     "execution_count": 34,
     "metadata": {},
     "output_type": "execute_result"
    }
   ],
   "source": [
    "df.rename(columns={'Age1stCode_Modified': 'Age1stCode'},inplace=True)\n",
    "df.head(1)"
   ]
  },
  {
   "cell_type": "code",
   "execution_count": 35,
   "metadata": {},
   "outputs": [],
   "source": [
    "df['Age1stCode'].fillna(df['Age1stCode'].median,inplace=True)"
   ]
  },
  {
   "cell_type": "code",
   "execution_count": 36,
   "metadata": {},
   "outputs": [
    {
     "name": "stdout",
     "output_type": "stream",
     "text": [
      "Yearly     19818\n",
      "Monthly    18899\n",
      "Weekly      1352\n",
      "Name: CompenFreq, dtype: int64\n",
      "NaN \t   24392\n",
      "['Monthly' nan 'Yearly' 'Weekly']\n"
     ]
    }
   ],
   "source": [
    "unq('CompenFreq')"
   ]
  },
  {
   "cell_type": "code",
   "execution_count": 37,
   "metadata": {},
   "outputs": [
    {
     "name": "stdout",
     "output_type": "stream",
     "text": [
      "Yearly     44210\n",
      "Monthly    18899\n",
      "Weekly      1352\n",
      "Name: CompenFreq, dtype: int64\n",
      "NaN \t   0\n",
      "['Monthly' 'Yearly' 'Weekly']\n"
     ]
    }
   ],
   "source": [
    "fna('CompenFreq','Yearly')"
   ]
  },
  {
   "cell_type": "code",
   "execution_count": 52,
   "metadata": {},
   "outputs": [
    {
     "name": "stdout",
     "output_type": "stream",
     "text": [
      "2    44210\n",
      "0    18899\n",
      "1     1352\n",
      "Name: CompenFreq, dtype: int64\n",
      "NaN \t   0\n",
      "[0 2 1]\n"
     ]
    }
   ],
   "source": [
    "enc('CompenFreq')\n",
    "unq('CompenFreq')"
   ]
  },
  {
   "cell_type": "code",
   "execution_count": 39,
   "metadata": {},
   "outputs": [
    {
     "name": "stdout",
     "output_type": "stream",
     "text": [
      "100000.0     769\n",
      "60000.0      735\n",
      "50000.0      717\n",
      "120000.0     660\n",
      "70000.0      617\n",
      "            ... \n",
      "126700.0       1\n",
      "17176.0        1\n",
      "19410.0        1\n",
      "2743900.0      1\n",
      "49150.0        1\n",
      "Name: CompenTotal, Length: 3003, dtype: int64\n",
      "NaN \t   29635\n",
      "[          nan 1.1600000e+05 2.5000000e+04 ... 1.2775000e+07 2.7170564e+07\n",
      " 4.3100000e+06]\n"
     ]
    }
   ],
   "source": [
    "unq('CompenTotal')"
   ]
  },
  {
   "cell_type": "code",
   "execution_count": 40,
   "metadata": {},
   "outputs": [
    {
     "name": "stdout",
     "output_type": "stream",
     "text": [
      "100000.0     30404\n",
      "60000.0        735\n",
      "50000.0        717\n",
      "120000.0       660\n",
      "70000.0        617\n",
      "             ...  \n",
      "126700.0         1\n",
      "17176.0          1\n",
      "19410.0          1\n",
      "2743900.0        1\n",
      "49150.0          1\n",
      "Name: CompenTotal, Length: 3003, dtype: int64\n",
      "NaN \t   0\n",
      "[1.0000000e+05 1.1600000e+05 2.5000000e+04 ... 1.2775000e+07 2.7170564e+07\n",
      " 4.3100000e+06]\n"
     ]
    }
   ],
   "source": [
    "fna('CompenTotal',100000.0)"
   ]
  },
  {
   "cell_type": "code",
   "execution_count": 41,
   "metadata": {},
   "outputs": [
    {
     "name": "stdout",
     "output_type": "stream",
     "text": [
      "120000.0     341\n",
      "100000.0     306\n",
      "150000.0     277\n",
      "2000000.0    258\n",
      "1000000.0    258\n",
      "            ... \n",
      "102700.0       1\n",
      "68721.0        1\n",
      "96250.0        1\n",
      "38456.0        1\n",
      "21487.0        1\n",
      "Name: USDCompen, Length: 6958, dtype: int64\n",
      "NaN \t   29705\n",
      "[    nan 116000.  32315. ...    369.    200.  38759.]\n"
     ]
    }
   ],
   "source": [
    "unq('USDCompen')"
   ]
  },
  {
   "cell_type": "code",
   "execution_count": 42,
   "metadata": {},
   "outputs": [
    {
     "name": "stdout",
     "output_type": "stream",
     "text": [
      "120000.0     30046\n",
      "100000.0       306\n",
      "150000.0       277\n",
      "2000000.0      258\n",
      "1000000.0      258\n",
      "             ...  \n",
      "102700.0         1\n",
      "68721.0          1\n",
      "96250.0          1\n",
      "38456.0          1\n",
      "21487.0          1\n",
      "Name: USDCompen, Length: 6958, dtype: int64\n",
      "NaN \t   0\n",
      "[120000. 116000.  32315. ...    369.    200.  38759.]\n"
     ]
    }
   ],
   "source": [
    "fna('USDCompen',120000.0)"
   ]
  },
  {
   "cell_type": "code",
   "execution_count": 44,
   "metadata": {},
   "outputs": [
    {
     "name": "stdout",
     "output_type": "stream",
     "text": [
      "United States     12469\n",
      "India              8403\n",
      "United Kingdom     3896\n",
      "Germany            3890\n",
      "Canada             2191\n",
      "                  ...  \n",
      "Gabon                 1\n",
      "Saint Lucia           1\n",
      "Chad                  1\n",
      "Kiribati              1\n",
      "Mali                  1\n",
      "Name: Country, Length: 183, dtype: int64\n",
      "NaN \t   389\n",
      "['Germany' 'United Kingdom' 'Russian Federation' 'Albania' 'United States'\n",
      " 'India' 'Tunisia' 'Spain' 'Netherlands' 'France' 'Belgium' 'Portugal'\n",
      " 'Canada' 'China' 'Ukraine' 'Italy' 'Brazil' 'Austria' 'Mexico' 'Sweden'\n",
      " 'Poland' 'Indonesia' 'Greece' 'Israel' 'Czech Republic'\n",
      " 'Bosnia and Herzegovina' 'Bulgaria' 'Serbia' 'Switzerland' 'Hungary'\n",
      " 'Nepal' 'Slovenia' 'Uruguay' 'Denmark' 'Pakistan' 'Taiwan' 'Romania'\n",
      " 'Finland' 'Costa Rica' 'Nigeria' 'Chile' 'Turkey' 'Panama' 'Ireland'\n",
      " 'Estonia' 'Philippines' 'Australia' 'Nomadic' 'Peru' 'Cyprus' 'Sri Lanka'\n",
      " 'Kenya' 'Norway' 'Kyrgyzstan' 'Iran' 'Croatia' 'Egypt' 'Argentina'\n",
      " 'Ghana' 'Latvia' 'Morocco' 'Bangladesh' 'Ecuador' 'Haiti'\n",
      " 'Venezuela, Bolivarian Republic of...' 'Colombia' 'Lithuania'\n",
      " 'El Salvador' 'Honduras' 'Ethiopia' 'Lebanon' 'Uganda' 'Algeria'\n",
      " 'Viet Nam' 'Guatemala' 'Syrian Arab Republic' 'Afghanistan' 'Slovakia'\n",
      " 'United Arab Emirates' 'Belarus' 'Sudan' 'South Africa' 'Jordan'\n",
      " 'Georgia' 'United Republic of Tanzania' 'Antigua and Barbuda'\n",
      " 'Saudi Arabia' 'New Zealand' 'Kuwait' 'Armenia' 'Republic of Moldova'\n",
      " 'Cuba' 'Luxembourg' 'Singapore' 'Azerbaijan' 'Dominican Republic'\n",
      " 'Iceland' 'Isle of Man' 'Uzbekistan' 'Trinidad and Tobago' 'Senegal'\n",
      " 'Andorra' 'Turkmenistan' 'Hong Kong (S.A.R.)' 'Benin' 'Bolivia'\n",
      " 'Republic of Korea' 'Japan' 'Malta' 'Iraq' 'South Korea' 'Paraguay'\n",
      " 'Malaysia' 'Thailand' 'Myanmar' 'Kazakhstan' 'Cambodia' 'Jamaica'\n",
      " 'Nicaragua' 'Maldives' 'Democratic Republic of the Congo'\n",
      " 'Papua New Guinea' 'Oman' 'The former Yugoslav Republic of Macedonia'\n",
      " 'Malawi' 'Qatar' 'Madagascar' 'Botswana' 'Angola' 'Montenegro' 'Yemen'\n",
      " 'Mongolia' 'Kosovo' 'Zambia' 'Zimbabwe' 'Libyan Arab Jamahiriya'\n",
      " 'Mozambique' 'Somalia' 'Eritrea' 'Namibia' 'Rwanda' 'Burkina Faso'\n",
      " 'Congo, Republic of the...' 'Swaziland' 'Bhutan' 'Cameroon' 'Bahrain'\n",
      " \"Côte d'Ivoire\" 'Sierra Leone' 'Togo' 'Niger' 'Barbados' 'Belize'\n",
      " 'Saint Vincent and the Grenadines' \"Lao People's Democratic Republic\"\n",
      " 'Tajikistan' 'Mauritius' 'Guinea' 'Brunei Darussalam' 'Bahamas'\n",
      " 'Mauritania' 'Saint Lucia' 'Djibouti' 'San Marino' 'Lesotho' 'Nauru' nan\n",
      " 'Burundi' 'Fiji' 'Kiribati' 'Grenada' 'Chad' 'Mali' 'Guyana'\n",
      " 'Micronesia, Federated States of...' 'Gambia' 'North Korea'\n",
      " 'Liechtenstein' 'Monaco' 'Timor-Leste' 'Solomon Islands' 'Cape Verde'\n",
      " 'Gabon' 'Marshall Islands']\n"
     ]
    }
   ],
   "source": [
    "unq('Country')"
   ]
  },
  {
   "cell_type": "code",
   "execution_count": 45,
   "metadata": {},
   "outputs": [
    {
     "name": "stdout",
     "output_type": "stream",
     "text": [
      "United States     12858\n",
      "India              8403\n",
      "United Kingdom     3896\n",
      "Germany            3890\n",
      "Canada             2191\n",
      "                  ...  \n",
      "Gabon                 1\n",
      "Saint Lucia           1\n",
      "Chad                  1\n",
      "Kiribati              1\n",
      "Mali                  1\n",
      "Name: Country, Length: 183, dtype: int64\n",
      "NaN \t   0\n",
      "['Germany' 'United Kingdom' 'Russian Federation' 'Albania' 'United States'\n",
      " 'India' 'Tunisia' 'Spain' 'Netherlands' 'France' 'Belgium' 'Portugal'\n",
      " 'Canada' 'China' 'Ukraine' 'Italy' 'Brazil' 'Austria' 'Mexico' 'Sweden'\n",
      " 'Poland' 'Indonesia' 'Greece' 'Israel' 'Czech Republic'\n",
      " 'Bosnia and Herzegovina' 'Bulgaria' 'Serbia' 'Switzerland' 'Hungary'\n",
      " 'Nepal' 'Slovenia' 'Uruguay' 'Denmark' 'Pakistan' 'Taiwan' 'Romania'\n",
      " 'Finland' 'Costa Rica' 'Nigeria' 'Chile' 'Turkey' 'Panama' 'Ireland'\n",
      " 'Estonia' 'Philippines' 'Australia' 'Nomadic' 'Peru' 'Cyprus' 'Sri Lanka'\n",
      " 'Kenya' 'Norway' 'Kyrgyzstan' 'Iran' 'Croatia' 'Egypt' 'Argentina'\n",
      " 'Ghana' 'Latvia' 'Morocco' 'Bangladesh' 'Ecuador' 'Haiti'\n",
      " 'Venezuela, Bolivarian Republic of...' 'Colombia' 'Lithuania'\n",
      " 'El Salvador' 'Honduras' 'Ethiopia' 'Lebanon' 'Uganda' 'Algeria'\n",
      " 'Viet Nam' 'Guatemala' 'Syrian Arab Republic' 'Afghanistan' 'Slovakia'\n",
      " 'United Arab Emirates' 'Belarus' 'Sudan' 'South Africa' 'Jordan'\n",
      " 'Georgia' 'United Republic of Tanzania' 'Antigua and Barbuda'\n",
      " 'Saudi Arabia' 'New Zealand' 'Kuwait' 'Armenia' 'Republic of Moldova'\n",
      " 'Cuba' 'Luxembourg' 'Singapore' 'Azerbaijan' 'Dominican Republic'\n",
      " 'Iceland' 'Isle of Man' 'Uzbekistan' 'Trinidad and Tobago' 'Senegal'\n",
      " 'Andorra' 'Turkmenistan' 'Hong Kong (S.A.R.)' 'Benin' 'Bolivia'\n",
      " 'Republic of Korea' 'Japan' 'Malta' 'Iraq' 'South Korea' 'Paraguay'\n",
      " 'Malaysia' 'Thailand' 'Myanmar' 'Kazakhstan' 'Cambodia' 'Jamaica'\n",
      " 'Nicaragua' 'Maldives' 'Democratic Republic of the Congo'\n",
      " 'Papua New Guinea' 'Oman' 'The former Yugoslav Republic of Macedonia'\n",
      " 'Malawi' 'Qatar' 'Madagascar' 'Botswana' 'Angola' 'Montenegro' 'Yemen'\n",
      " 'Mongolia' 'Kosovo' 'Zambia' 'Zimbabwe' 'Libyan Arab Jamahiriya'\n",
      " 'Mozambique' 'Somalia' 'Eritrea' 'Namibia' 'Rwanda' 'Burkina Faso'\n",
      " 'Congo, Republic of the...' 'Swaziland' 'Bhutan' 'Cameroon' 'Bahrain'\n",
      " \"Côte d'Ivoire\" 'Sierra Leone' 'Togo' 'Niger' 'Barbados' 'Belize'\n",
      " 'Saint Vincent and the Grenadines' \"Lao People's Democratic Republic\"\n",
      " 'Tajikistan' 'Mauritius' 'Guinea' 'Brunei Darussalam' 'Bahamas'\n",
      " 'Mauritania' 'Saint Lucia' 'Djibouti' 'San Marino' 'Lesotho' 'Nauru'\n",
      " 'Burundi' 'Fiji' 'Kiribati' 'Grenada' 'Chad' 'Mali' 'Guyana'\n",
      " 'Micronesia, Federated States of...' 'Gambia' 'North Korea'\n",
      " 'Liechtenstein' 'Monaco' 'Timor-Leste' 'Solomon Islands' 'Cape Verde'\n",
      " 'Gabon' 'Marshall Islands']\n"
     ]
    }
   ],
   "source": [
    "fna('Country','United States')"
   ]
  },
  {
   "cell_type": "code",
   "execution_count": 51,
   "metadata": {},
   "outputs": [
    {
     "name": "stdout",
     "output_type": "stream",
     "text": [
      "175    12858\n",
      "71      8403\n",
      "173     3896\n",
      "59      3890\n",
      "30      2191\n",
      "       ...  \n",
      "102        1\n",
      "122        1\n",
      "91         1\n",
      "32         1\n",
      "106        1\n",
      "Name: Country, Length: 183, dtype: int64\n",
      "NaN \t   0\n",
      "[ 59 173 137   1 175  71 167 153 116  55  16 132  30  34 171  78  23   9\n",
      " 105 157 131  72  61  77  41  21  25 144 158  69 115 148 176  44 125 160\n",
      " 136  54  37 120  33 168 126  75  51 130   8 121 129  40 154  83 123  87\n",
      "  73  38  48   6  60  89 110  13  47  66 178  35  94  49  67  52  90 170\n",
      "   2 179  63 159   0 147 172  15 155 151  81  58 174   5 142 117  86   7\n",
      " 135  39  95 146  10  46  70  76 177 166 143   3 169  68  18  20 134  80\n",
      " 101  74 152 128  98 162 112  82  28  79 118  99  43 127 124 163  97 133\n",
      "  96  22   4 109 180 108  85 181 182  92 111 150  50 113 138  26  36 156\n",
      "  19  29  12  42 145 165 119  14  17 140  88 161 104  64  24  11 103 139\n",
      "  45 141  91 114  27  53  84  62  32 100  65 106  57 122  93 107 164 149\n",
      "  31  56 102]\n"
     ]
    }
   ],
   "source": [
    "enc('Country')\n",
    "unq('Country')"
   ]
  },
  {
   "cell_type": "code",
   "execution_count": 47,
   "metadata": {},
   "outputs": [
    {
     "name": "stdout",
     "output_type": "stream",
     "text": [
      "USD    11050\n",
      "EUR    10000\n",
      "INR     4930\n",
      "GBP     3127\n",
      "CAD     1570\n",
      "       ...  \n",
      "KYD        1\n",
      "LYD        1\n",
      "MOP        1\n",
      "LSL        1\n",
      "FJD        1\n",
      "Name: CurrencySymbol, Length: 141, dtype: int64\n",
      "NaN \t   18989\n",
      "['EUR' 'GBP' nan 'ALL' 'USD' 'INR' 'CAD' 'AUD' 'BRL' 'MXN' 'SEK' 'PLN'\n",
      " 'IDR' 'ILS' 'CZK' 'BAM' 'BGN' 'UAH' 'CHF' 'HUF' 'NPR' 'UYU' 'PKR' 'NGN'\n",
      " 'TRY' 'PHP' 'PEN' 'LKR' 'TWD' 'KGS' 'HRK' 'ARS' 'RUB' 'IRR' 'GHS' 'NOK'\n",
      " 'MAD' 'RON' 'TND' 'HTG' 'COP' 'HNL' 'DKK' 'LBP' 'UGX' 'RSD' 'GTQ' 'SYP'\n",
      " 'EGP' 'BDT' 'AED' 'ZAR' 'BYN' 'AOA' 'CLP' 'JOD' 'GEL' 'CRC' 'SAR' 'NZD'\n",
      " 'AMD' 'MDL' 'CUP' 'SGD' 'VND' 'AZN' 'DOP' 'IMP' 'UZS' 'TTD' 'XOF' 'ISK'\n",
      " 'KWD' 'TMT' 'KES' 'HKD' 'TZS' 'BOB' 'KRW' 'JPY' 'IQD' 'PYG' 'MYR' 'THB'\n",
      " 'CNY' 'MMK' 'ZMW' 'KZT' 'KHR' 'MVR' 'CDF' 'MKD' 'MWK' 'QAR' 'BMD' 'DZD'\n",
      " 'non' 'ANG' 'AFN' 'MNT' 'BWP' 'DJF' 'OMR' 'MRU' 'LYD' 'AWG' 'ETB' 'MGA'\n",
      " 'NAD' 'RWF' 'SZL' 'BTN' 'XAF' 'BHD' 'YER' 'BBD' 'GIP' 'VES' 'JMD' 'NIO'\n",
      " 'SLL' 'LAK' 'TJS' 'MUR' 'SOS' 'SDG' 'BND' 'XDR' 'KYD' 'GNF' 'FKP' 'XPF'\n",
      " 'LSL' 'FJD' 'BSD' 'XCD' 'GMD' 'GYD' 'WST' 'BZD' 'MZN' 'MOP']\n"
     ]
    }
   ],
   "source": [
    "unq('CurrencySymbol')"
   ]
  },
  {
   "cell_type": "code",
   "execution_count": 48,
   "metadata": {},
   "outputs": [
    {
     "name": "stdout",
     "output_type": "stream",
     "text": [
      "USD    30039\n",
      "EUR    10000\n",
      "INR     4930\n",
      "GBP     3127\n",
      "CAD     1570\n",
      "       ...  \n",
      "KYD        1\n",
      "LYD        1\n",
      "MOP        1\n",
      "LSL        1\n",
      "FJD        1\n",
      "Name: CurrencySymbol, Length: 141, dtype: int64\n",
      "NaN \t   0\n",
      "['EUR' 'GBP' 'USD' 'ALL' 'INR' 'CAD' 'AUD' 'BRL' 'MXN' 'SEK' 'PLN' 'IDR'\n",
      " 'ILS' 'CZK' 'BAM' 'BGN' 'UAH' 'CHF' 'HUF' 'NPR' 'UYU' 'PKR' 'NGN' 'TRY'\n",
      " 'PHP' 'PEN' 'LKR' 'TWD' 'KGS' 'HRK' 'ARS' 'RUB' 'IRR' 'GHS' 'NOK' 'MAD'\n",
      " 'RON' 'TND' 'HTG' 'COP' 'HNL' 'DKK' 'LBP' 'UGX' 'RSD' 'GTQ' 'SYP' 'EGP'\n",
      " 'BDT' 'AED' 'ZAR' 'BYN' 'AOA' 'CLP' 'JOD' 'GEL' 'CRC' 'SAR' 'NZD' 'AMD'\n",
      " 'MDL' 'CUP' 'SGD' 'VND' 'AZN' 'DOP' 'IMP' 'UZS' 'TTD' 'XOF' 'ISK' 'KWD'\n",
      " 'TMT' 'KES' 'HKD' 'TZS' 'BOB' 'KRW' 'JPY' 'IQD' 'PYG' 'MYR' 'THB' 'CNY'\n",
      " 'MMK' 'ZMW' 'KZT' 'KHR' 'MVR' 'CDF' 'MKD' 'MWK' 'QAR' 'BMD' 'DZD' 'non'\n",
      " 'ANG' 'AFN' 'MNT' 'BWP' 'DJF' 'OMR' 'MRU' 'LYD' 'AWG' 'ETB' 'MGA' 'NAD'\n",
      " 'RWF' 'SZL' 'BTN' 'XAF' 'BHD' 'YER' 'BBD' 'GIP' 'VES' 'JMD' 'NIO' 'SLL'\n",
      " 'LAK' 'TJS' 'MUR' 'SOS' 'SDG' 'BND' 'XDR' 'KYD' 'GNF' 'FKP' 'XPF' 'LSL'\n",
      " 'FJD' 'BSD' 'XCD' 'GMD' 'GYD' 'WST' 'BZD' 'MZN' 'MOP']\n"
     ]
    }
   ],
   "source": [
    "fna('CurrencySymbol','USD')"
   ]
  },
  {
   "cell_type": "code",
   "execution_count": 49,
   "metadata": {},
   "outputs": [],
   "source": [
    "enc('CurrencySymbol')"
   ]
  },
  {
   "cell_type": "code",
   "execution_count": 50,
   "metadata": {},
   "outputs": [
    {
     "name": "stdout",
     "output_type": "stream",
     "text": [
      "PostgreSQL                                                                                    2310\n",
      "Microsoft SQL Server                                                                          1947\n",
      "MySQL                                                                                         1823\n",
      "MongoDB                                                                                       1624\n",
      "SQLite                                                                                         966\n",
      "                                                                                              ... \n",
      "DynamoDB;MongoDB;MySQL;Oracle;PostgreSQL                                                         1\n",
      "DynamoDB;Elasticsearch;Firebase;MariaDB;Microsoft SQL Server;MySQL;PostgreSQL;Redis;SQLite       1\n",
      "MariaDB;Microsoft SQL Server;MongoDB;Oracle;PostgreSQL;Redis;SQLite                              1\n",
      "Couchbase;Firebase;MariaDB;MongoDB;MySQL;SQLite                                                  1\n",
      "DynamoDB;Firebase;IBM DB2                                                                        1\n",
      "Name: DatabaseDesireNextYear, Length: 3193, dtype: int64\n",
      "NaN \t   20391\n",
      "['Microsoft SQL Server' nan 'MySQL;PostgreSQL' ...\n",
      " 'Elasticsearch;MySQL;Oracle;Redis;SQLite'\n",
      " 'Couchbase;DynamoDB;Elasticsearch;Firebase;IBM DB2;Oracle;PostgreSQL'\n",
      " 'Elasticsearch;IBM DB2;Oracle']\n"
     ]
    }
   ],
   "source": [
    "unq('DatabaseDesireNextYear')"
   ]
  },
  {
   "cell_type": "code",
   "execution_count": 55,
   "metadata": {},
   "outputs": [
    {
     "name": "stdout",
     "output_type": "stream",
     "text": [
      "PostgreSQL                                                                                    22701\n",
      "Microsoft SQL Server                                                                           1947\n",
      "MySQL                                                                                          1823\n",
      "MongoDB                                                                                        1624\n",
      "SQLite                                                                                          966\n",
      "                                                                                              ...  \n",
      "DynamoDB;MongoDB;MySQL;Oracle;PostgreSQL                                                          1\n",
      "DynamoDB;Elasticsearch;Firebase;MariaDB;Microsoft SQL Server;MySQL;PostgreSQL;Redis;SQLite        1\n",
      "MariaDB;Microsoft SQL Server;MongoDB;Oracle;PostgreSQL;Redis;SQLite                               1\n",
      "Couchbase;Firebase;MariaDB;MongoDB;MySQL;SQLite                                                   1\n",
      "DynamoDB;Firebase;IBM DB2                                                                         1\n",
      "Name: DatabaseDesireNextYear, Length: 3193, dtype: int64\n",
      "NaN \t   0\n",
      "['Microsoft SQL Server' 'PostgreSQL' 'MySQL;PostgreSQL' ...\n",
      " 'Elasticsearch;MySQL;Oracle;Redis;SQLite'\n",
      " 'Couchbase;DynamoDB;Elasticsearch;Firebase;IBM DB2;Oracle;PostgreSQL'\n",
      " 'Elasticsearch;IBM DB2;Oracle']\n"
     ]
    }
   ],
   "source": [
    "fna('DatabaseDesireNextYear','PostgreSQL')"
   ]
  },
  {
   "cell_type": "code",
   "execution_count": 56,
   "metadata": {},
   "outputs": [
    {
     "name": "stdout",
     "output_type": "stream",
     "text": [
      "3186    22701\n",
      "3068     1947\n",
      "3162     1823\n",
      "3130     1624\n",
      "3192      966\n",
      "        ...  \n",
      "1395        1\n",
      "1258        1\n",
      "1290        1\n",
      "1322        1\n",
      "860         1\n",
      "Name: DatabaseDesireNextYear, Length: 3193, dtype: int64\n",
      "NaN \t   0\n",
      "[3068 3186 3171 ... 2566 1202 2370]\n"
     ]
    }
   ],
   "source": [
    "enc('DatabaseDesireNextYear')\n",
    "unq('DatabaseDesireNextYear')"
   ]
  },
  {
   "cell_type": "code",
   "execution_count": 58,
   "metadata": {},
   "outputs": [
    {
     "name": "stdout",
     "output_type": "stream",
     "text": [
      "MySQL                                                                           3827\n",
      "Microsoft SQL Server                                                            3298\n",
      "PostgreSQL                                                                      1937\n",
      "SQLite                                                                          1313\n",
      "Microsoft SQL Server;MySQL                                                      1158\n",
      "                                                                                ... \n",
      "Couchbase;Elasticsearch;MariaDB;Microsoft SQL Server;MySQL;PostgreSQL;SQLite       1\n",
      "Cassandra;Elasticsearch;Firebase;Microsoft SQL Server;PostgreSQL;Redis             1\n",
      "Cassandra;MariaDB;Microsoft SQL Server;MySQL;Redis;SQLite                          1\n",
      "Cassandra;DynamoDB;MariaDB;MongoDB;MySQL;PostgreSQL;Redis                          1\n",
      "Couchbase;DynamoDB;MariaDB;MySQL;PostgreSQL;Redis;SQLite                           1\n",
      "Name: DatabaseWorkedWith, Length: 2808, dtype: int64\n",
      "NaN \t   14924\n",
      "['Elasticsearch;Microsoft SQL Server;Oracle' nan\n",
      " 'MySQL;PostgreSQL;Redis;SQLite' ...\n",
      " 'Cassandra;Couchbase;DynamoDB;IBM DB2;Oracle'\n",
      " 'Cassandra;Couchbase;DynamoDB;Firebase;IBM DB2'\n",
      " 'Firebase;IBM DB2;MariaDB;Microsoft SQL Server;MySQL;Oracle']\n"
     ]
    }
   ],
   "source": [
    "unq('DatabaseWorkedWith')"
   ]
  },
  {
   "cell_type": "code",
   "execution_count": 60,
   "metadata": {},
   "outputs": [
    {
     "name": "stdout",
     "output_type": "stream",
     "text": [
      "2777    18751\n",
      "2683     3298\n",
      "2801     1937\n",
      "2807     1313\n",
      "2714     1158\n",
      "        ...  \n",
      "1003        1\n",
      "1067        1\n",
      "1099        1\n",
      "2487        1\n",
      "1225        1\n",
      "Name: DatabaseWorkedWith, Length: 2808, dtype: int64\n",
      "NaN \t   0\n",
      "[2085 2777 2788 ...   45   37 2169]\n",
      "2777    18751\n",
      "2683     3298\n",
      "2801     1937\n",
      "2807     1313\n",
      "2714     1158\n",
      "        ...  \n",
      "1003        1\n",
      "1067        1\n",
      "1099        1\n",
      "2487        1\n",
      "1225        1\n",
      "Name: DatabaseWorkedWith, Length: 2808, dtype: int64\n",
      "NaN \t   0\n",
      "[2085 2777 2788 ...   45   37 2169]\n"
     ]
    }
   ],
   "source": [
    "fna('DatabaseWorkedWith','MySQL')\n",
    "enc('DatabaseWorkedWith')\n",
    "unq('DatabaseWorkedWith')\n",
    "def proc(a,b):\n",
    "    fna(a,b)\n",
    "    enc(a)\n",
    "    unq(a)"
   ]
  },
  {
   "cell_type": "code",
   "execution_count": 57,
   "metadata": {},
   "outputs": [
    {
     "name": "stdout",
     "output_type": "stream",
     "text": [
      "<class 'pandas.core.frame.DataFrame'>\n",
      "RangeIndex: 64461 entries, 0 to 64460\n",
      "Data columns (total 61 columns):\n",
      " #   Column                        Non-Null Count  Dtype  \n",
      "---  ------                        --------------  -----  \n",
      " 0   Respondent                    64461 non-null  int64  \n",
      " 1   MainBranch                    64461 non-null  int8   \n",
      " 2   Hobbyist                      64461 non-null  int8   \n",
      " 3   Age                           64461 non-null  float64\n",
      " 4   CompenFreq                    64461 non-null  int8   \n",
      " 5   CompenTotal                   64461 non-null  float64\n",
      " 6   USDCompen                     64461 non-null  float64\n",
      " 7   Country                       64461 non-null  int16  \n",
      " 8   CurrencyDesc                  45472 non-null  object \n",
      " 9   CurrencySymbol                64461 non-null  int16  \n",
      " 10  DatabaseDesireNextYear        64461 non-null  int16  \n",
      " 11  DatabaseWorkedWith            49537 non-null  object \n",
      " 12  DevType                       49370 non-null  object \n",
      " 13  EdLevel                       57431 non-null  object \n",
      " 14  Employment                    63854 non-null  object \n",
      " 15  Ethnicity                     45948 non-null  object \n",
      " 16  Gender                        50557 non-null  object \n",
      " 17  JobFactors                    49349 non-null  object \n",
      " 18  JobSat                        45194 non-null  object \n",
      " 19  JobSeek                       51727 non-null  object \n",
      " 20  LanguageDesireNextYear        54113 non-null  object \n",
      " 21  LanguageWorkedWith            57378 non-null  object \n",
      " 22  MiscTechDesireNextYear        42379 non-null  object \n",
      " 23  MiscTechWorkedWith            40314 non-null  object \n",
      " 24  NEWCollabToolsDesireNextYear  47287 non-null  object \n",
      " 25  NEWCollabToolsWorkedWith      52883 non-null  object \n",
      " 26  NEWDevOps                     42686 non-null  object \n",
      " 27  NEWDevOpsImpt                 41732 non-null  object \n",
      " 28  NEWEdImpt                     48465 non-null  object \n",
      " 29  NEWJobHunt                    42286 non-null  object \n",
      " 30  NEWJobHuntResearch            41022 non-null  object \n",
      " 31  NEWLearn                      56156 non-null  object \n",
      " 32  NEWOffTopic                   50804 non-null  object \n",
      " 33  NEWOnboardGood                42623 non-null  object \n",
      " 34  NEWOtherComms                 57205 non-null  object \n",
      " 35  NEWOvertime                   43231 non-null  object \n",
      " 36  NEWPurchaseResearch           37321 non-null  object \n",
      " 37  NEWPurpleLink                 54803 non-null  object \n",
      " 38  NEWSOSites                    58275 non-null  object \n",
      " 39  NEWStuck                      54983 non-null  object \n",
      " 40  OpSys                         56228 non-null  object \n",
      " 41  OrgSize                       44334 non-null  object \n",
      " 42  PlatformDesireNextYear        50605 non-null  object \n",
      " 43  PlatformWorkedWith            53843 non-null  object \n",
      " 44  PurchaseWhat                  39364 non-null  object \n",
      " 45  Sexuality                     43992 non-null  object \n",
      " 46  SOAccount                     56805 non-null  object \n",
      " 47  SOComm                        56476 non-null  object \n",
      " 48  SOPartFreq                    46792 non-null  object \n",
      " 49  SOVisitFreq                   56970 non-null  object \n",
      " 50  SurveyEase                    51802 non-null  object \n",
      " 51  SurveyLength                  51701 non-null  object \n",
      " 52  Trans                         49345 non-null  object \n",
      " 53  UndergradMajor                50995 non-null  object \n",
      " 54  WebframeDesireNextYear        40024 non-null  object \n",
      " 55  WebframeWorkedWith            42279 non-null  object \n",
      " 56  WelcomeChange                 52683 non-null  object \n",
      " 57  WorkWeekHrs                   41151 non-null  float64\n",
      " 58  YearsCode                     57684 non-null  object \n",
      " 59  YearsCodePro                  46349 non-null  object \n",
      " 60  Age1stCode                    64461 non-null  object \n",
      "dtypes: float64(4), int16(3), int64(1), int8(3), object(50)\n",
      "memory usage: 27.6+ MB\n"
     ]
    }
   ],
   "source": [
    "df.info()"
   ]
  },
  {
   "cell_type": "code",
   "execution_count": 61,
   "metadata": {},
   "outputs": [
    {
     "name": "stdout",
     "output_type": "stream",
     "text": [
      "Developer, full-stack                                                                                                                                                                                                                                                                                                                                                                                        4424\n",
      "Developer, back-end                                                                                                                                                                                                                                                                                                                                                                                          3086\n",
      "Developer, back-end;Developer, front-end;Developer, full-stack                                                                                                                                                                                                                                                                                                                                               2227\n",
      "Developer, back-end;Developer, full-stack                                                                                                                                                                                                                                                                                                                                                                    1476\n",
      "Developer, front-end                                                                                                                                                                                                                                                                                                                                                                                         1401\n",
      "                                                                                                                                                                                                                                                                                                                                                                                                             ... \n",
      "Academic researcher;Data or business analyst;Data scientist or machine learning specialist;Database administrator;Designer;Developer, back-end;Developer, desktop or enterprise applications;Developer, embedded applications or devices;Developer, front-end;Developer, mobile;Educator;Engineer, data;Engineering manager;Marketing or sales professional;Product manager;Scientist;Senior executive/VP       1\n",
      "Database administrator;Developer, back-end;Developer, desktop or enterprise applications;Developer, mobile;Developer, QA or test                                                                                                                                                                                                                                                                                1\n",
      "Database administrator;Developer, mobile;System administrator                                                                                                                                                                                                                                                                                                                                                   1\n",
      "Data or business analyst;Data scientist or machine learning specialist;Database administrator;Designer;Developer, back-end;Developer, full-stack;Engineer, data;System administrator                                                                                                                                                                                                                            1\n",
      "Data or business analyst;Database administrator;Developer, back-end;Developer, desktop or enterprise applications;Developer, embedded applications or devices;Developer, front-end;Developer, full-stack;Developer, mobile;DevOps specialist;System administrator                                                                                                                                               1\n",
      "Name: DevType, Length: 8269, dtype: int64\n",
      "NaN \t   15091\n",
      "['Developer, desktop or enterprise applications;Developer, full-stack'\n",
      " 'Developer, full-stack;Developer, mobile' nan ...\n",
      " 'Data scientist or machine learning specialist;Database administrator;Developer, back-end;Developer, front-end;System administrator'\n",
      " 'Academic researcher;Data or business analyst;Data scientist or machine learning specialist;Database administrator;Designer;Developer, back-end;Developer, desktop or enterprise applications;Developer, embedded applications or devices;Developer, front-end;Developer, full-stack;Developer, game or graphics;Developer, mobile;Developer, QA or test;DevOps specialist;Senior executive/VP;System administrator'\n",
      " 'Data or business analyst;Developer, mobile;Senior executive/VP;System administrator']\n"
     ]
    }
   ],
   "source": [
    "unq('DevType')"
   ]
  },
  {
   "cell_type": "code",
   "execution_count": 65,
   "metadata": {},
   "outputs": [
    {
     "data": {
      "text/plain": [
       "0    Developer, desktop or enterprise applications;...\n",
       "1              Developer, full-stack;Developer, mobile\n",
       "2                                                  NaN\n",
       "3                                                  NaN\n",
       "4                                                  NaN\n",
       "Name: DevType, dtype: object"
      ]
     },
     "execution_count": 65,
     "metadata": {},
     "output_type": "execute_result"
    }
   ],
   "source": [
    "df.DevType.head()"
   ]
  },
  {
   "cell_type": "code",
   "execution_count": null,
   "metadata": {},
   "outputs": [],
   "source": []
  }
 ],
 "metadata": {
  "kernelspec": {
   "display_name": "Python 3",
   "language": "python",
   "name": "python3"
  },
  "language_info": {
   "codemirror_mode": {
    "name": "ipython",
    "version": 3
   },
   "file_extension": ".py",
   "mimetype": "text/x-python",
   "name": "python",
   "nbconvert_exporter": "python",
   "pygments_lexer": "ipython3",
   "version": "3.8.3"
  }
 },
 "nbformat": 4,
 "nbformat_minor": 4
}
